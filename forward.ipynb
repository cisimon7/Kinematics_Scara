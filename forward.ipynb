{
 "cells": [
  {
   "cell_type": "code",
   "execution_count": 1,
   "metadata": {
    "collapsed": true,
    "pycharm": {
     "name": "#%%\n"
    }
   },
   "outputs": [],
   "source": [
    "from sympy import *\n",
    "from utils import *"
   ]
  },
  {
   "cell_type": "code",
   "execution_count": 2,
   "outputs": [],
   "source": [
    "d1, q1, d2, d3, q2, d4, q3, d5, q4 = symbols(\"dl ql d2 d3 q2 d4 q3 d5 q4\")"
   ],
   "metadata": {
    "collapsed": false,
    "pycharm": {
     "name": "#%%\n"
    }
   }
  },
  {
   "cell_type": "code",
   "execution_count": 3,
   "outputs": [
    {
     "data": {
      "text/plain": "Matrix([\n[cos(q2 + q4 + ql), -sin(q2 + q4 + ql), 0, d2*cos(ql) + d4*cos(q2 + ql)],\n[sin(q2 + q4 + ql),  cos(q2 + q4 + ql), 0, d2*sin(ql) + d4*sin(q2 + ql)],\n[                0,                  0, 1,            d3 - d5 + dl + q3],\n[                0,                  0, 0,                            1]])",
      "text/latex": "$\\displaystyle \\left[\\begin{matrix}\\cos{\\left(q_{2} + q_{4} + ql \\right)} & - \\sin{\\left(q_{2} + q_{4} + ql \\right)} & 0 & d_{2} \\cos{\\left(ql \\right)} + d_{4} \\cos{\\left(q_{2} + ql \\right)}\\\\\\sin{\\left(q_{2} + q_{4} + ql \\right)} & \\cos{\\left(q_{2} + q_{4} + ql \\right)} & 0 & d_{2} \\sin{\\left(ql \\right)} + d_{4} \\sin{\\left(q_{2} + ql \\right)}\\\\0 & 0 & 1 & d_{3} - d_{5} + dl + q_{3}\\\\0 & 0 & 0 & 1\\end{matrix}\\right]$"
     },
     "execution_count": 3,
     "metadata": {},
     "output_type": "execute_result"
    }
   ],
   "source": [
    "H = Tz(d1)*Rz(q1)*Tx(d2)*Tz(d3)*Rz(q2)*Tx(d4)*Tz(q3)*Tz(-d5)*Rz(q4)\n",
    "H = trigsimp(H)\n",
    "H"
   ],
   "metadata": {
    "collapsed": false,
    "pycharm": {
     "name": "#%%\n"
    }
   }
  },
  {
   "cell_type": "code",
   "execution_count": 4,
   "outputs": [
    {
     "data": {
      "text/plain": "Matrix([\n[cos(q2 + q4 + ql), -sin(q2 + q4 + ql), 0],\n[sin(q2 + q4 + ql),  cos(q2 + q4 + ql), 0],\n[                0,                  0, 1]])",
      "text/latex": "$\\displaystyle \\left[\\begin{matrix}\\cos{\\left(q_{2} + q_{4} + ql \\right)} & - \\sin{\\left(q_{2} + q_{4} + ql \\right)} & 0\\\\\\sin{\\left(q_{2} + q_{4} + ql \\right)} & \\cos{\\left(q_{2} + q_{4} + ql \\right)} & 0\\\\0 & 0 & 1\\end{matrix}\\right]$"
     },
     "execution_count": 4,
     "metadata": {},
     "output_type": "execute_result"
    }
   ],
   "source": [
    "R = H[0:3, :-1]\n",
    "R"
   ],
   "metadata": {
    "collapsed": false,
    "pycharm": {
     "name": "#%%\n"
    }
   }
  },
  {
   "cell_type": "code",
   "execution_count": 5,
   "outputs": [
    {
     "data": {
      "text/plain": "Matrix([\n[d2*cos(ql) + d4*cos(q2 + ql)],\n[d2*sin(ql) + d4*sin(q2 + ql)],\n[           d3 - d5 + dl + q3]])",
      "text/latex": "$\\displaystyle \\left[\\begin{matrix}d_{2} \\cos{\\left(ql \\right)} + d_{4} \\cos{\\left(q_{2} + ql \\right)}\\\\d_{2} \\sin{\\left(ql \\right)} + d_{4} \\sin{\\left(q_{2} + ql \\right)}\\\\d_{3} - d_{5} + dl + q_{3}\\end{matrix}\\right]$"
     },
     "execution_count": 5,
     "metadata": {},
     "output_type": "execute_result"
    }
   ],
   "source": [
    "T = H[0:3, -1]\n",
    "T"
   ],
   "metadata": {
    "collapsed": false,
    "pycharm": {
     "name": "#%%\n"
    }
   }
  },
  {
   "cell_type": "code",
   "execution_count": 6,
   "outputs": [
    {
     "data": {
      "text/plain": "Matrix([\n[-sin(q2 + q4 + ql), -cos(q2 + q4 + ql), 0, -d4*sin(q2 + ql)],\n[ cos(q2 + q4 + ql), -sin(q2 + q4 + ql), 0,  d4*cos(q2 + ql)],\n[                 0,                  0, 0,                0],\n[                 0,                  0, 0,                0]])",
      "text/latex": "$\\displaystyle \\left[\\begin{matrix}- \\sin{\\left(q_{2} + q_{4} + ql \\right)} & - \\cos{\\left(q_{2} + q_{4} + ql \\right)} & 0 & - d_{4} \\sin{\\left(q_{2} + ql \\right)}\\\\\\cos{\\left(q_{2} + q_{4} + ql \\right)} & - \\sin{\\left(q_{2} + q_{4} + ql \\right)} & 0 & d_{4} \\cos{\\left(q_{2} + ql \\right)}\\\\0 & 0 & 0 & 0\\\\0 & 0 & 0 & 0\\end{matrix}\\right]$"
     },
     "execution_count": 6,
     "metadata": {},
     "output_type": "execute_result"
    }
   ],
   "source": [
    "J2p = diff(H, q2)\n",
    "J2p = trigsimp(J2p)\n",
    "J2p"
   ],
   "metadata": {
    "collapsed": false,
    "pycharm": {
     "name": "#%%\n"
    }
   }
  },
  {
   "cell_type": "code",
   "execution_count": 7,
   "outputs": [
    {
     "data": {
      "text/plain": "Matrix([\n[0, -1, 0],\n[1,  0, 0],\n[0,  0, 0]])",
      "text/latex": "$\\displaystyle \\left[\\begin{matrix}0 & -1 & 0\\\\1 & 0 & 0\\\\0 & 0 & 0\\end{matrix}\\right]$"
     },
     "execution_count": 7,
     "metadata": {},
     "output_type": "execute_result"
    }
   ],
   "source": [
    "Rd = J2p[0:3, :-1]\n",
    "w = Rd * R**-1\n",
    "w = trigsimp(w)\n",
    "w"
   ],
   "metadata": {
    "collapsed": false,
    "pycharm": {
     "name": "#%%\n"
    }
   }
  },
  {
   "cell_type": "code",
   "execution_count": 8,
   "outputs": [
    {
     "data": {
      "text/plain": "Matrix([\n[-d4*sin(q2 + ql)],\n[ d4*cos(q2 + ql)],\n[               0],\n[               0],\n[               0],\n[               1]])",
      "text/latex": "$\\displaystyle \\left[\\begin{matrix}- d_{4} \\sin{\\left(q_{2} + ql \\right)}\\\\d_{4} \\cos{\\left(q_{2} + ql \\right)}\\\\0\\\\0\\\\0\\\\1\\end{matrix}\\right]$"
     },
     "execution_count": 8,
     "metadata": {},
     "output_type": "execute_result"
    }
   ],
   "source": [
    "r = w\n",
    "J = J2p[0:3, -1]\n",
    "J = J.row_insert(3, Matrix([w[2,1], w[0,2], w[1,0]]))\n",
    "J"
   ],
   "metadata": {
    "collapsed": false,
    "pycharm": {
     "name": "#%%\n"
    }
   }
  },
  {
   "cell_type": "code",
   "execution_count": null,
   "outputs": [],
   "source": [],
   "metadata": {
    "collapsed": false,
    "pycharm": {
     "name": "#%%\n"
    }
   }
  }
 ],
 "metadata": {
  "kernelspec": {
   "display_name": "Python 3",
   "language": "python",
   "name": "python3"
  },
  "language_info": {
   "codemirror_mode": {
    "name": "ipython",
    "version": 2
   },
   "file_extension": ".py",
   "mimetype": "text/x-python",
   "name": "python",
   "nbconvert_exporter": "python",
   "pygments_lexer": "ipython2",
   "version": "2.7.6"
  }
 },
 "nbformat": 4,
 "nbformat_minor": 0
}